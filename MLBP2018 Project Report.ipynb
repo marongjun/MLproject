{
 "cells": [
  {
   "cell_type": "markdown",
   "metadata": {},
   "source": [
    "**Machine Learning Basic Principles 2018 - Data Analysis Project Report**"
   ]
  },
  {
   "cell_type": "markdown",
   "metadata": {},
   "source": [
    "# *Music Genre Classification with Neural Network Techniques* "
   ]
  },
  {
   "cell_type": "markdown",
   "metadata": {},
   "source": [
    "## Abstract"
   ]
  },
  {
   "cell_type": "markdown",
   "metadata": {},
   "source": [
    "Music genre classification has a wide scope of applications and it has attracted the insterest of numerous researchers to tackle with the classification issue. Based on previous researches, machine learning techniques have proved to be able to identify trends from large pools of data, and ultimately classify the types of music. In this report, a music genre classification project is resolved based on a deep learning algorithm – Neural network. This project is developed in the python compiling environment and TensorFlow is applied as a tool. This paper first discusses the data source, including the class distribution and dimensionality analysis. Two models, Multilayer Perception (MLP) and Convolutional Neural network (CNN), were built to be trained in the project. The result of the two models was analyzed and evaluated for better performance. In the end, we suggest some methods for further improvement of classification.\n"
   ]
  },
  {
   "cell_type": "markdown",
   "metadata": {},
   "source": [
    "## 1. Introduction"
   ]
  },
  {
   "cell_type": "markdown",
   "metadata": {},
   "source": [
    "Categorizing music files according to their genre has been a challenging task in the area of music information retrieval (MIR) for its poorly defined concept and ever-increasing accuracy requirement (Bahuleyan, 2018). Additionally, it does find a wide range of applications in the real world along with the demand for more and more reliable and fast tools for content analysis and description to be used for searches, content queries, and interactive access. For instance, Spotify (which places recommendations based on genre classification to their customers) and Pandora (which generates images according to genre) (Haggblade et al., 2011) are both popular applications using the classification. Thus, it is important to explore an effective approach to address the categorizing problem.\n",
    " \n",
    "Since music genre classification is not a new problem in machine learning, many researchers have attempted to implement different types of algorithms to solve this problem. Among these approaches, Neural network is a classical method, which is exactly the one we applied in this project. Besides Neural network, many other methods like Support Vector Machine (SVM) and K-nearest Neighbors (KNN) are also widely tested by expert programmers (Scaringella et al., 2006).\n",
    " \n",
    "To categorize by genre, music can be abstracted into a series of values based on universal features such as rhythm, form or timbre and then becomes a data point to be analyzed. In practice, Mel Frequency Cepstral Coefficients (MFCC) is a popular way to concisely represent song waveforms (Ayush et al., 2017), which encodes the power spectrum of the sound with the calculation of the Fourier transform of the logarithm of the signal spectrum. Therefore, the experiment in this report also takes the MFCC value as a part of the features vector.\n",
    " \n",
    "In this report, music genre classification project is first implemented by MLP and then improved by CNN method. Additionally, the integral process of the experiment will be thoroughly discussed in this paper.\n",
    "\n",
    "***Note: The code in the body of this report is only used for explanation and clarification. The complete source code is attached in Appendix which can be executed.***\n"
   ]
  },
  {
   "cell_type": "markdown",
   "metadata": {},
   "source": [
    "## 2. Data analysis"
   ]
  },
  {
   "cell_type": "markdown",
   "metadata": {
    "deletable": false,
    "nbgrader": {
     "cell_type": "code",
     "checksum": "014a593ce82d342a60d749c7a2c46b7c",
     "grade": true,
     "grade_id": "cell-c3ef844c17cf4a1e",
     "locked": false,
     "points": 1,
     "schema_version": 2,
     "solution": true
    }
   },
   "source": [
    "The original data for the music genre classification project is a training dataset with 4363 songs, and a test dataset with 6544 songs. For each song, it has 264 features which contain Rhythm Pattern, Chroma and MFCCs information. The feature vector of each song consists of 264 dimensions: 168 values for the rhythm patterns (24 bands, 7 statistics), 48 values for the chroma (12 bands, 4 statistics), and 48 values for the MFCCs (12 bands, 4 statistics). Based on the data source, the goal of this experiment is to classify these songs into 10 possible classes, which is determined based on different music genres.\n",
    " \n",
    "During the early analysis stage, we found that the distribution of training dataset is extremely imbalanced. While the genre ‘Pop_Rock’ occupies approximately 50% of the dataset, the ‘Reggae’ and ‘Blues’ make up only around 2% of the whole set. Besides these three groups, data of other genres is also not balanced. In this case, we considered the performance of training may be affected for it may cause frustrating results. The frustrating results, which may turn out to be a lie of high accuracy, appears because some parts of the training set are perfectly trained whereas some are insufficiently trained due to the imbalance of data.\n",
    " \n",
    "To be more visual about the class distribution, the figure below shows the imbalanced distribution of data. As presented, the number for ‘Pop_Rock’ appears to be the highest in the histograms.\n",
    "\n",
    "![musicdistribution.png](./musicdistribution.png)\n"
   ]
  },
  {
   "cell_type": "markdown",
   "metadata": {},
   "source": [
    "## 3. Methods and experiments\n",
    "### 3.1 Frameworks and Libraries"
   ]
  },
  {
   "cell_type": "markdown",
   "metadata": {},
   "source": [
    "We have heard of TensorFlow for a long time and knew it is a framework developed by Google using Neural network. It is a popular approach to develop predictive models nowadays. However, we did not have the chance to learn TensorFlow and dive into it. This project is a great opportunity for us to implement TensorFlow in a real project. In addition, \n",
    "Tensorflow has very simple and clear syntax and it is very convenient to implement Neural network model with TensorFlow. Its built-in methods save us a lot of time and we can still achieve desirable performance without too much code.\n",
    "\n",
    "Besides TensorFlow, we also use sklearn to help us split the dataset into training set and validation set, preprocess the data and generate confusion matrix. Another two libraries, seaborn and  matplotlib, are used for data visualization. Numpy is used for scientific computing and pandas for importing files.\n",
    "\n"
   ]
  },
  {
   "cell_type": "markdown",
   "metadata": {},
   "source": [
    "### 3.2 Neural network Methods\n",
    "\n",
    "Neural network has attracted more and more attention in the last few decades because of its key advantages that make it most suitable for certain problems and situations. Firstly, Neural network is very powerful to learn and model non-linear and complex relationships, which is really crucial because in real-life, a great number of the relationships between inputs and outputs are non-linear as well as complex. Secondly, unlike many other prediction techniques, Neural network does not impose many restrictions on the input variables. It gives the data scientist more flexibility to implement the tool.\n",
    " \n",
    "In this project, we used two types of Neural network—multilayer perception and convolutional Neural network. Multilayer perception is the one of the simplest Neural network. It consists of multiple neurons (nodes) arranged in layers. Nodes from adjacent layers have connections between them. All these connections have weights related to them. The layers can be divided into input layers, hidden layer, and output layer. Because the model contains one or more hidden layers, this type of Neural network is referred to as multilayer perception.\n",
    " \n",
    "CNN differs from MLP, because it takes advantage of local spatial coherence in the input variables (often images), which allows them to have fewer weights as some parameters are shared. This process makes them especially well-suited to extract relevant information at a low computational cost. \n",
    " \n",
    "Both of these two methods are easily implemented using Tensorflow.\n"
   ]
  },
  {
   "cell_type": "markdown",
   "metadata": {},
   "source": [
    "### 3.3 Experimental Process\n",
    "\n",
    "To have a complete structure of our experiment, the flow of process is shown in figure 2.\n",
    "We firstly import the data file into Jupyter Notebook, preprocess the data, and split the dataset. This part is related to preparation for the input data. Then we start to build the model, train the model and evaluate the model. After multiple iterations of modifying the model, we make predications on test data, save the result into a text file and submit it on Kaggle.\n",
    "\n",
    "![](./process.png)\n",
    "\n",
    "These processes are also clearly listed in our source code (appendix ). There are several points we need to mention in the experiment process.\n",
    " \n",
    "For the methodology of evaluation, we use the  Cross-Validation(CV). The validation is used to make sure that the model developed has got most of the patterns from the data correct, low on bias and variance. And in this project,  it is conducted during the phase of data splitting. The main code of the validation implementation is shown below.\n"
   ]
  },
  {
   "cell_type": "markdown",
   "metadata": {},
   "source": [
    "```python\n",
    "sss = StratifiedShuffleSplit(n_splits=2,\n",
    "                             test_size=0.2,\n",
    "                             random_state=0)\n",
    "```"
   ]
  },
  {
   "cell_type": "markdown",
   "metadata": {},
   "source": [
    "To implement the cross evaluation, we directly call the ***StratifiedShuffleSplit*** function from the python sklearn library. This function firstly shuffles the training dataset, and then splits the data into n_splits parts ( Which is set as 2 here). After this step, it picks one part to use as a test set. Then it repeats the same process n_splits-1 other times, to get n_splits-1 other test set. As for test_size, we set it 0.2 because based on practice we determine 80% of the training set as train data and 20% as test data for the model training process. Considering the report as a reproducible documentation, we give random_state a fixed number 0. Thus, everyone can consistently see the same output as the first run. \n",
    "\n",
    "The StratifiedShuffleSplit CV object is actually a merge of StratifiedKFold and ShuffleSplit, which returns stratified randomized folds. The folds are made by preserving the percentage of samples for each class. It is an efficient method though has the risk of overlapping."
   ]
  },
  {
   "cell_type": "markdown",
   "metadata": {},
   "source": [
    "For model using MLP, there are three hidden layers, with 256, 128, and 64 nodes, respectively. The output layer contains 10 nodes, which corresponds to 10 categorical labels. After each layer, we implemented dropout to combat overfitting in the training process. The batch size is 64 and the number of epochs is 50 after we have evaluate the accuracy result."
   ]
  },
  {
   "cell_type": "markdown",
   "metadata": {},
   "source": [
    "```python\n",
    "layers = tf.keras.layers\n",
    "\n",
    "model_mlp = tf.keras.models.Sequential()\n",
    "model_mlp.add(layers.Dense(256, activation=tf.nn.relu, input_shape=(X_train.shape[1],)))\n",
    "model_mlp.add(layers.Dropout(0.2))\n",
    "model_mlp.add(layers.Dense(128, activation=tf.nn.relu))\n",
    "model_mlp.add(layers.Dropout(0.2))\n",
    "model_mlp.add(layers.Dense(64, activation=tf.nn.relu))\n",
    "model_mlp.add(layers.Dropout(0.2))\n",
    "model_mlp.add(layers.Dense(10, activation=tf.nn.softmax))\n",
    "\n",
    "optimizer = tf.train.AdamOptimizer()\n",
    "\n",
    "model_mlp.compile(optimizer=optimizer, loss='sparse_categorical_crossentropy', metrics=['accuracy'])\n",
    "```"
   ]
  },
  {
   "cell_type": "markdown",
   "metadata": {},
   "source": [
    "For model using CNN, we built a single convolutional layer. The filters represent the number of channels, which we choose as 32. We refactor the shape of one group of dataset on the basis of 12 after we analyze the structure of the dataset. After the single convolutional layer, we add a max-pooling layer, which is also considered as downgrading layer. It can decrease the spatial size of the representation to lower the amount of parameters and computation in the network, and hence to also control overfitting. We flatten the dataset and add two other layers to let the data fit into the output layer. The number of epochs is 60 after we have evaluate the accuracy result."
   ]
  },
  {
   "cell_type": "markdown",
   "metadata": {},
   "source": [
    "```python\n",
    "model = Sequential()\n",
    "model.add(Conv1D(filters=32, kernel_size=4, input_shape=(12, 22)))\n",
    "model.add(MaxPooling1D(pool_size=4))\n",
    "model.add(Flatten())\n",
    "model.add(Dropout(0.5))\n",
    "model.add(Dense(1000, activation='relu'))\n",
    "model.add(Dense(300, activation='relu'))\n",
    "model.add(Dense(num_classes, activation='softmax'))\n",
    "\n",
    "model.compile(loss=keras.losses.categorical_crossentropy,\n",
    "              optimizer=keras.optimizers.Adadelta(),\n",
    "              metrics=['accuracy'])\n",
    "```"
   ]
  },
  {
   "cell_type": "markdown",
   "metadata": {},
   "source": [
    "The standard that we determine the epochs of the training is to make the accuracy of training set and validation set as close as possible. \n",
    "\n",
    "There are two evaluation metrics used in the Kaggle competitions:\n",
    " \n",
    "**Categorical Accuracy**\n",
    "$$\n",
    "    Accuracy = \\frac{|y_{\\rm true}=y_{\\rm predicted}|}{N}.\n",
    "    \\label{sigmoid}\n",
    "$$\n",
    "Where N is the total number of data samples, 𝑦𝑡𝑟𝑢𝑒 is a vector containing the actual class of\n",
    "all samples, and 𝑦 𝑝𝑟𝑒𝑑𝑖𝑐𝑡𝑒𝑑is a vector containing the predicted classes for all samples.\n",
    "\n",
    "**Multiclass logarithmic loss**\n",
    "$$\n",
    "log-loss = -\\frac{1}{N} \\sum_{i=1}^{N} \\sum_{j=1}^{M} y_{\\rm i,j}log(p_{\\rm i,j})\n",
    "$$\n",
    "Where N is the total number of data samples, M is the total number of classes, 𝑦𝑖,𝑗 is an indicator function that outputs 1 when the sample i is assigned to class j, 0 otherwise; and 𝑝𝑖,𝑗is the predicted probability that the sample i belongs to class j.\n"
   ]
  },
  {
   "cell_type": "markdown",
   "metadata": {},
   "source": [
    "## 4. Results"
   ]
  },
  {
   "cell_type": "markdown",
   "metadata": {},
   "source": [
    "The performance of the model is represented by log-loss and categorical accuracy in this project. \n",
    "\n",
    "For method using MLP, after 34 training epochs, the log-loss and the accuracy of the training set reach 1.0121 and 0.6785, respectively, while those metrics of validation set end at 1.1171 and 0.6667, respectively. By using this training model, we predicted the labels of test dataset and submitted the results on Kaggle. The results for log-loss and accuracy with partial validation are 0.57361 and 0.20235. \n",
    "\n",
    "For method using MLP, after 64 training epochs, the log-loss and the accuracy of the training set reach 0.9761 and 0.6751, respectively, while those metrics of validation set end at 1.1832 and 0.6438, respectively. By using this training model, we predicted the labels of test dataset and submitted the results on Kaggle. The results for log-loss and accuracy with partial validation are 0.58329 and 0.20249. \n",
    "\n",
    "![](./result.png)\n"
   ]
  },
  {
   "cell_type": "markdown",
   "metadata": {},
   "source": [
    "We also plotted the confusion matrix for validation set using MLP model. The validation set contains 873 groups of data, as we split the whole training dataset (4363 groups of data) into two sets with the percentage of 80 and 20. From figure below, we can obtain that the CV method split the dataset quite well. The data with all 10 kinds of labels are contained in the validation set. It is clear that data with label 1 (Pop_Rock) is still the majority of the dataset, which makes up around 41% of the total number of groups. \n",
    "\n",
    "![](./confusion.png)"
   ]
  },
  {
   "cell_type": "markdown",
   "metadata": {},
   "source": [
    "## 5. Discussion/Conclusions"
   ]
  },
  {
   "cell_type": "markdown",
   "metadata": {},
   "source": [
    "For training with MLP model, the accuracies of training set and validation set are both better compared to the result in Kaggle. We think it is because the model is still not trained sufficiently due to imbalanced dataset. The log loss in Kaggle is much better than training set and validation set, which results from normalization in the evaluation process in Kaggle. Thus, the sum of the probabilities of each data sample is not equal to 1. \n",
    "\n",
    "The same observation is obtained for CNN model. It gets similar result compared to MLP model. It does not exhibit better performance in spite of its advanced structure and concepts, which might be the reason that we still do not understand the concepts well and are not able to set up the optimal parameters for the model.\n",
    "\n",
    "The log loss and accuracy of the dataset have a negative relation. As the training proceeds, the accuracy becomes higher, while the log loss becomes lower. Considering the definition of accuracy and log loss, it is not hard to understand the trends. When making the correct prediction on one set of music, the probability of the right label is the highest among all the labels. Thus the accuracy becomes higher and log loss becomes lower.\n",
    "\n",
    "One interesting result from the confusion matrix is that the model did not predict label 7 (International) for the validation set, which means the model is not able to learn the characteristic of this genre and make predictions on label 7. Besides this, the model makes some prediction on label 10. It is, however, not able to predict the result correctly. We assume the characteristics of label 10 is considerably similar to another types of music, so within this amount of training data, it does not have the ability to distinguish between this genre and other genres. \n",
    "\n",
    "These consequences can be traced back to the imbalanced training dataset. The more a specific group of data is, the greater effect it can impose on the model. For example, the data with label 1 has significant influence on the model, so it is clear from the confusion matrix that the model are more likely to make prediction on label 1. \n",
    "\n",
    "To improve the performance of the model, we have changed the method to split the dataset at the beginning of the processing, changed some parameters (number of layers, dense of each layer, dropout of each layer, batch size, kernel size, epochs) in the model, calculate the accuracy and log-loss. However, we have not been able to make huge progress compared to our first model. At that point, we realized the models we have built are not capable of handling the imbalanced dataset so we focus on resampling the data in the following update. \n",
    "\n",
    "We have attempted to implement random resampling and update the model by more balanced dataset. However, due to the limited time, we are not able to find the right approach to resample the data before submitting the report. The result is even worse compared to our previous submission. \n",
    "\n",
    "For future improvement, we will continue understanding the concepts and structure of Neural networks and try to test with more tunable parameters.\n",
    "\n",
    "In the project, we have successfully implemented two neural networks models. In this project, we have successfully trained two neural network models, MLP and CNN, which are built with TensorFlow. We compared the results and analyzed and improved the performance of the two models. We passed the benchmark in Kaggle competition within three weeks, and continue optimizing the performance of the model. Throughout the project, we have gained a deeper understanding of how neural networks solve real-life problems and obtained some hands-on experience with popular frameworks and libraries.\n"
   ]
  },
  {
   "cell_type": "markdown",
   "metadata": {},
   "source": [
    "## 6. References"
   ]
  },
  {
   "cell_type": "markdown",
   "metadata": {},
   "source": [
    "Bahuleyan, H. (2018). Music Genre Classification using Machine Learning Techniques. arXiv preprint arXiv:1804.01149.\n",
    " \n",
    "Haggblade, M., Hong, Y., & Kao, K. (2011). Music genre classification. Department of Computer Science, Stanford University.\n",
    " \n",
    "Scaringella, N., Zoia, G., & Mlynek, D. (2006). Automatic genre classification of music content: a survey. IEEE Signal Processing Magazine, 23(2), 133-141.\n",
    " \n",
    "Kumar, A., Siva, B. K. S., Reddy, G. S., & Rashmi, M. R. (2017). MUSIC GENRE CLASSIFICATION.\n",
    "\n",
    "What are the advantages of a convolutional neural network (CNN) compared to a simple neural network from the theoretical and practical perspective?\n",
    "https://www.quora.com/What-are-the-advantages-of-a-convolutional-neural-network-CNN-compared-to-a-simple-neural-network-from-the-theoretical-and-practical-perspective\n",
    "\n",
    "Convolutional Neural Networks (CNNs / ConvNets)\n",
    "http://cs231n.github.io/convolutional-networks/#pool\n",
    "\n",
    "A Quick Introduction to Neural Networks\n",
    "https://ujjwalkarn.me/2016/08/09/quick-intro-neural-networks/\n"
   ]
  },
  {
   "cell_type": "markdown",
   "metadata": {},
   "source": [
    "## Appendix"
   ]
  },
  {
   "cell_type": "markdown",
   "metadata": {},
   "source": [
    "### Read in Data"
   ]
  },
  {
   "cell_type": "code",
   "execution_count": 4,
   "metadata": {},
   "outputs": [
    {
     "name": "stdout",
     "output_type": "stream",
     "text": [
      "Requirement already satisfied: tensorflow in /Users/marongjun/anaconda3/lib/python3.6/site-packages (1.11.0)\n",
      "Requirement already satisfied: numpy>=1.13.3 in /Users/marongjun/anaconda3/lib/python3.6/site-packages (from tensorflow) (1.14.3)\n",
      "Requirement already satisfied: keras-preprocessing>=1.0.3 in /Users/marongjun/anaconda3/lib/python3.6/site-packages (from tensorflow) (1.0.5)\n",
      "Requirement already satisfied: setuptools<=39.1.0 in /Users/marongjun/anaconda3/lib/python3.6/site-packages (from tensorflow) (39.1.0)\n",
      "Requirement already satisfied: protobuf>=3.6.0 in /Users/marongjun/anaconda3/lib/python3.6/site-packages (from tensorflow) (3.6.1)\n",
      "Requirement already satisfied: termcolor>=1.1.0 in /Users/marongjun/anaconda3/lib/python3.6/site-packages (from tensorflow) (1.1.0)\n",
      "Requirement already satisfied: grpcio>=1.8.6 in /Users/marongjun/anaconda3/lib/python3.6/site-packages (from tensorflow) (1.16.0)\n",
      "Requirement already satisfied: absl-py>=0.1.6 in /Users/marongjun/anaconda3/lib/python3.6/site-packages (from tensorflow) (0.6.1)\n",
      "Requirement already satisfied: tensorboard<1.12.0,>=1.11.0 in /Users/marongjun/anaconda3/lib/python3.6/site-packages (from tensorflow) (1.11.0)\n",
      "Requirement already satisfied: wheel>=0.26 in /Users/marongjun/anaconda3/lib/python3.6/site-packages (from tensorflow) (0.31.1)\n",
      "Requirement already satisfied: keras-applications>=1.0.5 in /Users/marongjun/anaconda3/lib/python3.6/site-packages (from tensorflow) (1.0.6)\n",
      "Requirement already satisfied: gast>=0.2.0 in /Users/marongjun/anaconda3/lib/python3.6/site-packages (from tensorflow) (0.2.0)\n",
      "Requirement already satisfied: six>=1.10.0 in /Users/marongjun/anaconda3/lib/python3.6/site-packages (from tensorflow) (1.11.0)\n",
      "Requirement already satisfied: astor>=0.6.0 in /Users/marongjun/anaconda3/lib/python3.6/site-packages (from tensorflow) (0.7.1)\n",
      "Requirement already satisfied: werkzeug>=0.11.10 in /Users/marongjun/anaconda3/lib/python3.6/site-packages (from tensorboard<1.12.0,>=1.11.0->tensorflow) (0.14.1)\n",
      "Requirement already satisfied: markdown>=2.6.8 in /Users/marongjun/anaconda3/lib/python3.6/site-packages (from tensorboard<1.12.0,>=1.11.0->tensorflow) (3.0.1)\n",
      "Requirement already satisfied: h5py in /Users/marongjun/anaconda3/lib/python3.6/site-packages (from keras-applications>=1.0.5->tensorflow) (2.7.1)\n",
      "\u001b[31mdistributed 1.21.8 requires msgpack, which is not installed.\u001b[0m\n",
      "\u001b[33mYou are using pip version 10.0.1, however version 18.1 is available.\n",
      "You should consider upgrading via the 'pip install --upgrade pip' command.\u001b[0m\n",
      "Requirement already up-to-date: scikit-learn in /Users/marongjun/anaconda3/lib/python3.6/site-packages (0.20.0)\n",
      "Requirement not upgraded as not directly required: scipy>=0.13.3 in /Users/marongjun/anaconda3/lib/python3.6/site-packages (from scikit-learn) (1.1.0)\n",
      "Requirement not upgraded as not directly required: numpy>=1.8.2 in /Users/marongjun/anaconda3/lib/python3.6/site-packages (from scikit-learn) (1.14.3)\n",
      "\u001b[31mdistributed 1.21.8 requires msgpack, which is not installed.\u001b[0m\n",
      "\u001b[33mYou are using pip version 10.0.1, however version 18.1 is available.\n",
      "You should consider upgrading via the 'pip install --upgrade pip' command.\u001b[0m\n"
     ]
    }
   ],
   "source": [
    "!pip install tensorflow\n",
    "!pip install -U scikit-learn\n",
    "\n",
    "# TensorFlow and tf.keras\n",
    "import tensorflow as tf\n",
    "from tensorflow import keras\n",
    "\n",
    "# Helper libraries\n",
    "import numpy as np\n",
    "import pandas as pd\n",
    "import matplotlib.pyplot as plt\n",
    "from sklearn.metrics import confusion_matrix\n",
    "from sklearn import preprocessing\n",
    "from sklearn.model_selection import StratifiedShuffleSplit\n",
    "import seaborn as sn"
   ]
  },
  {
   "cell_type": "code",
   "execution_count": 5,
   "metadata": {},
   "outputs": [],
   "source": [
    "train_data = pd.read_csv(r\"train_data.csv\", header=None)\n",
    "train_label = pd.read_csv(r\"train_labels.csv\", header=None, names=['label'])"
   ]
  },
  {
   "cell_type": "markdown",
   "metadata": {},
   "source": [
    "### Plot distribution of music genres"
   ]
  },
  {
   "cell_type": "code",
   "execution_count": 6,
   "metadata": {},
   "outputs": [
    {
     "name": "stdout",
     "output_type": "stream",
     "text": [
      "1     2178\n",
      "2      618\n",
      "3      326\n",
      "6      260\n",
      "4      253\n",
      "5      214\n",
      "8      195\n",
      "7      141\n",
      "9       92\n",
      "10      86\n",
      "Name: label, dtype: int64\n"
     ]
    }
   ],
   "source": [
    "# count the number of each label\n",
    "train_label['label'].value_counts()\n",
    "\n",
    "labels = train_label['label'].value_counts()\n",
    "print(labels)"
   ]
  },
  {
   "cell_type": "code",
   "execution_count": 7,
   "metadata": {},
   "outputs": [
    {
     "data": {
      "image/png": "[encoded data removed]",
      "text/plain": [
       "<Figure size 720x720 with 1 Axes>"
      ]
     },
     "metadata": {
      "needs_background": "light"
     },
     "output_type": "display_data"
    }
   ],
   "source": [
    "N = 10\n",
    "\n",
    "ind = np.arange(N)  # the x locations for the groups\n",
    "width = 0.35       # the width of the bars\n",
    "label_count = labels.values\n",
    "\n",
    "fig, ax = plt.subplots(figsize=(10,10))\n",
    "rects1 = ax.bar(ind, label_count)\n",
    "\n",
    "# add some text for labels, title and axes ticks\n",
    "ax.set_xlabel('Music Genres', fontsize=18)\n",
    "ax.set_ylabel('Number', fontsize=18)\n",
    "ax.set_title('Distribution of Music Genres', fontsize=22)\n",
    "plt.xticks(np.arange(10),['Pop_Rock','Electronic','Rap','RnB','Jazz','Latin','Country','International','Reggae','Blues'], rotation=30)\n",
    "\n",
    "def autolabel(rects):\n",
    "    \"\"\"\n",
    "    Attach a text label above each bar displaying its height\n",
    "    \"\"\"\n",
    "    for rect in rects:\n",
    "        height = rect.get_height()\n",
    "        ax.text(rect.get_x() + rect.get_width()/1.8, 1.00*height,\n",
    "                '%d' % int(height), fontsize='large',\n",
    "                ha='center', va='bottom')\n",
    "\n",
    "autolabel(rects1)\n",
    "\n",
    "plt.show()"
   ]
  },
  {
   "cell_type": "code",
   "execution_count": 8,
   "metadata": {},
   "outputs": [
    {
     "data": {
      "text/plain": [
       "(4363, 264)"
      ]
     },
     "execution_count": 8,
     "metadata": {},
     "output_type": "execute_result"
    }
   ],
   "source": [
    "# check the shape of the dataset\n",
    "train_data.shape"
   ]
  },
  {
   "cell_type": "code",
   "execution_count": 9,
   "metadata": {},
   "outputs": [],
   "source": [
    "train_set = train_data.assign(label=train_label.label)\n",
    "\n",
    "train_set[\"label\"] = train_set.label - 1"
   ]
  },
  {
   "cell_type": "code",
   "execution_count": 10,
   "metadata": {},
   "outputs": [
    {
     "data": {
      "text/html": [
       "<div>\n",
       "<style scoped>\n",
       "    .dataframe tbody tr th:only-of-type {\n",
       "        vertical-align: middle;\n",
       "    }\n",
       "\n",
       "    .dataframe tbody tr th {\n",
       "        vertical-align: top;\n",
       "    }\n",
       "\n",
       "    .dataframe thead th {\n",
       "        text-align: right;\n",
       "    }\n",
       "</style>\n",
       "<table border=\"1\" class=\"dataframe\">\n",
       "  <thead>\n",
       "    <tr style=\"text-align: right;\">\n",
       "      <th></th>\n",
       "      <th>0</th>\n",
       "      <th>1</th>\n",
       "      <th>2</th>\n",
       "      <th>3</th>\n",
       "      <th>4</th>\n",
       "      <th>5</th>\n",
       "      <th>6</th>\n",
       "      <th>7</th>\n",
       "      <th>8</th>\n",
       "      <th>9</th>\n",
       "      <th>...</th>\n",
       "      <th>255</th>\n",
       "      <th>256</th>\n",
       "      <th>257</th>\n",
       "      <th>258</th>\n",
       "      <th>259</th>\n",
       "      <th>260</th>\n",
       "      <th>261</th>\n",
       "      <th>262</th>\n",
       "      <th>263</th>\n",
       "      <th>label</th>\n",
       "    </tr>\n",
       "  </thead>\n",
       "  <tbody>\n",
       "    <tr>\n",
       "      <th>0</th>\n",
       "      <td>1040.7</td>\n",
       "      <td>2315.6</td>\n",
       "      <td>2839.1</td>\n",
       "      <td>2552.2</td>\n",
       "      <td>2290.4</td>\n",
       "      <td>1913.8</td>\n",
       "      <td>2152.6</td>\n",
       "      <td>1930.3</td>\n",
       "      <td>2079.3</td>\n",
       "      <td>1706.7</td>\n",
       "      <td>...</td>\n",
       "      <td>0.36548</td>\n",
       "      <td>0.093584</td>\n",
       "      <td>0.166870</td>\n",
       "      <td>0.083426</td>\n",
       "      <td>0.118090</td>\n",
       "      <td>0.089792</td>\n",
       "      <td>0.074371</td>\n",
       "      <td>0.073162</td>\n",
       "      <td>0.059463</td>\n",
       "      <td>0</td>\n",
       "    </tr>\n",
       "    <tr>\n",
       "      <th>1</th>\n",
       "      <td>2309.4</td>\n",
       "      <td>4780.4</td>\n",
       "      <td>4055.7</td>\n",
       "      <td>3120.5</td>\n",
       "      <td>1979.9</td>\n",
       "      <td>2343.6</td>\n",
       "      <td>2634.2</td>\n",
       "      <td>3208.5</td>\n",
       "      <td>3078.0</td>\n",
       "      <td>3374.7</td>\n",
       "      <td>...</td>\n",
       "      <td>0.14739</td>\n",
       "      <td>0.102560</td>\n",
       "      <td>0.213040</td>\n",
       "      <td>0.082041</td>\n",
       "      <td>0.080967</td>\n",
       "      <td>0.076450</td>\n",
       "      <td>0.052523</td>\n",
       "      <td>0.052357</td>\n",
       "      <td>0.055297</td>\n",
       "      <td>0</td>\n",
       "    </tr>\n",
       "    <tr>\n",
       "      <th>2</th>\n",
       "      <td>2331.9</td>\n",
       "      <td>4607.0</td>\n",
       "      <td>4732.3</td>\n",
       "      <td>5007.0</td>\n",
       "      <td>3164.9</td>\n",
       "      <td>3171.9</td>\n",
       "      <td>2915.7</td>\n",
       "      <td>3282.3</td>\n",
       "      <td>2400.0</td>\n",
       "      <td>1895.2</td>\n",
       "      <td>...</td>\n",
       "      <td>0.36321</td>\n",
       "      <td>0.114200</td>\n",
       "      <td>0.223780</td>\n",
       "      <td>0.100770</td>\n",
       "      <td>0.186910</td>\n",
       "      <td>0.067270</td>\n",
       "      <td>0.061138</td>\n",
       "      <td>0.085509</td>\n",
       "      <td>0.049422</td>\n",
       "      <td>0</td>\n",
       "    </tr>\n",
       "    <tr>\n",
       "      <th>3</th>\n",
       "      <td>3350.9</td>\n",
       "      <td>6274.4</td>\n",
       "      <td>5037.0</td>\n",
       "      <td>4609.7</td>\n",
       "      <td>3438.8</td>\n",
       "      <td>3925.8</td>\n",
       "      <td>3746.4</td>\n",
       "      <td>3539.4</td>\n",
       "      <td>3053.7</td>\n",
       "      <td>3075.4</td>\n",
       "      <td>...</td>\n",
       "      <td>0.28950</td>\n",
       "      <td>0.074124</td>\n",
       "      <td>0.201580</td>\n",
       "      <td>0.049032</td>\n",
       "      <td>0.130210</td>\n",
       "      <td>0.045800</td>\n",
       "      <td>0.080885</td>\n",
       "      <td>0.148910</td>\n",
       "      <td>0.042027</td>\n",
       "      <td>0</td>\n",
       "    </tr>\n",
       "    <tr>\n",
       "      <th>4</th>\n",
       "      <td>2017.6</td>\n",
       "      <td>3351.8</td>\n",
       "      <td>2924.9</td>\n",
       "      <td>2726.3</td>\n",
       "      <td>1979.9</td>\n",
       "      <td>1930.9</td>\n",
       "      <td>2083.4</td>\n",
       "      <td>1889.2</td>\n",
       "      <td>1695.4</td>\n",
       "      <td>1911.7</td>\n",
       "      <td>...</td>\n",
       "      <td>0.38266</td>\n",
       "      <td>0.079402</td>\n",
       "      <td>0.063495</td>\n",
       "      <td>0.053717</td>\n",
       "      <td>0.086750</td>\n",
       "      <td>0.062090</td>\n",
       "      <td>0.048999</td>\n",
       "      <td>0.033159</td>\n",
       "      <td>0.070813</td>\n",
       "      <td>0</td>\n",
       "    </tr>\n",
       "  </tbody>\n",
       "</table>\n",
       "<p>5 rows × 265 columns</p>\n",
       "</div>"
      ],
      "text/plain": [
       "        0       1       2       3       4       5       6       7       8  \\\n",
       "0  1040.7  2315.6  2839.1  2552.2  2290.4  1913.8  2152.6  1930.3  2079.3   \n",
       "1  2309.4  4780.4  4055.7  3120.5  1979.9  2343.6  2634.2  3208.5  3078.0   \n",
       "2  2331.9  4607.0  4732.3  5007.0  3164.9  3171.9  2915.7  3282.3  2400.0   \n",
       "3  3350.9  6274.4  5037.0  4609.7  3438.8  3925.8  3746.4  3539.4  3053.7   \n",
       "4  2017.6  3351.8  2924.9  2726.3  1979.9  1930.9  2083.4  1889.2  1695.4   \n",
       "\n",
       "        9  ...        255       256       257       258       259       260  \\\n",
       "0  1706.7  ...    0.36548  0.093584  0.166870  0.083426  0.118090  0.089792   \n",
       "1  3374.7  ...    0.14739  0.102560  0.213040  0.082041  0.080967  0.076450   \n",
       "2  1895.2  ...    0.36321  0.114200  0.223780  0.100770  0.186910  0.067270   \n",
       "3  3075.4  ...    0.28950  0.074124  0.201580  0.049032  0.130210  0.045800   \n",
       "4  1911.7  ...    0.38266  0.079402  0.063495  0.053717  0.086750  0.062090   \n",
       "\n",
       "        261       262       263  label  \n",
       "0  0.074371  0.073162  0.059463      0  \n",
       "1  0.052523  0.052357  0.055297      0  \n",
       "2  0.061138  0.085509  0.049422      0  \n",
       "3  0.080885  0.148910  0.042027      0  \n",
       "4  0.048999  0.033159  0.070813      0  \n",
       "\n",
       "[5 rows x 265 columns]"
      ]
     },
     "execution_count": 10,
     "metadata": {},
     "output_type": "execute_result"
    }
   ],
   "source": [
    "# check head of the dataset\n",
    "train_set.head()"
   ]
  },
  {
   "cell_type": "code",
   "execution_count": 11,
   "metadata": {},
   "outputs": [],
   "source": [
    "feature_col_names = list(range(264))"
   ]
  },
  {
   "cell_type": "markdown",
   "metadata": {},
   "source": [
    "### Preprocessing Data"
   ]
  },
  {
   "cell_type": "code",
   "execution_count": 12,
   "metadata": {},
   "outputs": [],
   "source": [
    "train_subset = train_set\n",
    "\n",
    "X = train_subset[feature_col_names].values\n",
    "y = train_subset.label.values"
   ]
  },
  {
   "cell_type": "code",
   "execution_count": 13,
   "metadata": {},
   "outputs": [],
   "source": [
    "# Noramalize the dataset\n",
    "\n",
    "min_max_scaler = preprocessing.MinMaxScaler()\n",
    "X = min_max_scaler.fit_transform(X)"
   ]
  },
  {
   "cell_type": "markdown",
   "metadata": {},
   "source": [
    "### Split into Train/Validation Set Using Stratefied Sampling"
   ]
  },
  {
   "cell_type": "code",
   "execution_count": 14,
   "metadata": {},
   "outputs": [],
   "source": [
    "sss = StratifiedShuffleSplit(n_splits=2, \n",
    "                             test_size=0.2,\n",
    "                             random_state=0)\n",
    "\n",
    "for train_index, test_index in sss.split(X, y):\n",
    "    X_train, X_test = X[train_index], X[test_index]\n",
    "    y_train, y_test = y[train_index], y[test_index]"
   ]
  },
  {
   "cell_type": "code",
   "execution_count": 15,
   "metadata": {},
   "outputs": [
    {
     "data": {
      "text/plain": [
       "(3490, 264)"
      ]
     },
     "execution_count": 15,
     "metadata": {},
     "output_type": "execute_result"
    }
   ],
   "source": [
    "X_train.shape"
   ]
  },
  {
   "cell_type": "code",
   "execution_count": 16,
   "metadata": {},
   "outputs": [
    {
     "data": {
      "text/plain": [
       "(873, 264)"
      ]
     },
     "execution_count": 16,
     "metadata": {},
     "output_type": "execute_result"
    }
   ],
   "source": [
    "X_test.shape"
   ]
  },
  {
   "cell_type": "markdown",
   "metadata": {},
   "source": [
    "### Method 1: Multilayer Perception (MLP)"
   ]
  },
  {
   "cell_type": "code",
   "execution_count": 17,
   "metadata": {},
   "outputs": [],
   "source": [
    "layers = tf.keras.layers\n",
    "\n",
    "model_mlp = tf.keras.models.Sequential()\n",
    "model_mlp.add(layers.Dense(256, activation=tf.nn.relu, input_shape=(X_train.shape[1],)))\n",
    "model_mlp.add(layers.Dropout(0.2))\n",
    "model_mlp.add(layers.Dense(128, activation=tf.nn.relu))\n",
    "model_mlp.add(layers.Dropout(0.2))\n",
    "model_mlp.add(layers.Dense(64, activation=tf.nn.relu))\n",
    "model_mlp.add(layers.Dropout(0.2))\n",
    "model_mlp.add(layers.Dense(10, activation=tf.nn.softmax))\n",
    "\n",
    "optimizer = tf.train.AdamOptimizer()\n",
    "\n",
    "model_mlp.compile(optimizer=optimizer, loss='sparse_categorical_crossentropy', metrics=['accuracy'])"
   ]
  },
  {
   "cell_type": "code",
   "execution_count": 18,
   "metadata": {},
   "outputs": [
    {
     "name": "stdout",
     "output_type": "stream",
     "text": [
      "Train on 3490 samples, validate on 873 samples\n",
      "Epoch 1/34\n",
      "3490/3490 [==============================] - 2s 532us/step - loss: 1.6953 - acc: 0.4857 - val_loss: 1.4923 - val_acc: 0.5120\n",
      "Epoch 2/34\n",
      "3490/3490 [==============================] - 1s 387us/step - loss: 1.5031 - acc: 0.5235 - val_loss: 1.3843 - val_acc: 0.5567\n",
      "Epoch 3/34\n",
      "3490/3490 [==============================] - 1s 369us/step - loss: 1.4119 - acc: 0.5564 - val_loss: 1.2932 - val_acc: 0.5945\n",
      "Epoch 4/34\n",
      "3490/3490 [==============================] - 1s 373us/step - loss: 1.3353 - acc: 0.5799 - val_loss: 1.2510 - val_acc: 0.6048\n",
      "Epoch 5/34\n",
      "3490/3490 [==============================] - 1s 372us/step - loss: 1.2990 - acc: 0.5862 - val_loss: 1.2907 - val_acc: 0.5899\n",
      "Epoch 6/34\n",
      "3490/3490 [==============================] - 1s 380us/step - loss: 1.2773 - acc: 0.5963 - val_loss: 1.2210 - val_acc: 0.6208\n",
      "Epoch 7/34\n",
      "3490/3490 [==============================] - 1s 409us/step - loss: 1.2680 - acc: 0.5951 - val_loss: 1.2370 - val_acc: 0.6025\n",
      "Epoch 8/34\n",
      "3490/3490 [==============================] - 2s 541us/step - loss: 1.2353 - acc: 0.6032 - val_loss: 1.2234 - val_acc: 0.6048\n",
      "Epoch 9/34\n",
      "3490/3490 [==============================] - 1s 388us/step - loss: 1.2232 - acc: 0.6138 - val_loss: 1.2021 - val_acc: 0.6163\n",
      "Epoch 10/34\n",
      "3490/3490 [==============================] - 1s 378us/step - loss: 1.2085 - acc: 0.6172 - val_loss: 1.2106 - val_acc: 0.6151\n",
      "Epoch 11/34\n",
      "3490/3490 [==============================] - 1s 383us/step - loss: 1.1990 - acc: 0.6166 - val_loss: 1.1713 - val_acc: 0.6208\n",
      "Epoch 12/34\n",
      "3490/3490 [==============================] - 1s 404us/step - loss: 1.1599 - acc: 0.6372 - val_loss: 1.1787 - val_acc: 0.6312\n",
      "Epoch 13/34\n",
      "3490/3490 [==============================] - 1s 388us/step - loss: 1.1606 - acc: 0.6318 - val_loss: 1.1621 - val_acc: 0.6243\n",
      "Epoch 14/34\n",
      "3490/3490 [==============================] - 1s 382us/step - loss: 1.1627 - acc: 0.6295 - val_loss: 1.1469 - val_acc: 0.6277\n",
      "Epoch 15/34\n",
      "3490/3490 [==============================] - 1s 380us/step - loss: 1.1370 - acc: 0.6335 - val_loss: 1.1704 - val_acc: 0.6254\n",
      "Epoch 16/34\n",
      "3490/3490 [==============================] - 1s 390us/step - loss: 1.1397 - acc: 0.6436 - val_loss: 1.1458 - val_acc: 0.6323\n",
      "Epoch 17/34\n",
      "3490/3490 [==============================] - 1s 381us/step - loss: 1.1124 - acc: 0.6401 - val_loss: 1.1356 - val_acc: 0.6323\n",
      "Epoch 18/34\n",
      "3490/3490 [==============================] - 1s 392us/step - loss: 1.1004 - acc: 0.6516 - val_loss: 1.2063 - val_acc: 0.6060\n",
      "Epoch 19/34\n",
      "3490/3490 [==============================] - 1s 422us/step - loss: 1.1137 - acc: 0.6473 - val_loss: 1.1553 - val_acc: 0.6266\n",
      "Epoch 20/34\n",
      "3490/3490 [==============================] - 2s 488us/step - loss: 1.0826 - acc: 0.6539 - val_loss: 1.1469 - val_acc: 0.6312\n",
      "Epoch 21/34\n",
      "3490/3490 [==============================] - 1s 416us/step - loss: 1.0757 - acc: 0.6544 - val_loss: 1.1344 - val_acc: 0.6300\n",
      "Epoch 22/34\n",
      "3490/3490 [==============================] - 1s 391us/step - loss: 1.0738 - acc: 0.6590 - val_loss: 1.1405 - val_acc: 0.6277\n",
      "Epoch 23/34\n",
      "3490/3490 [==============================] - 1s 390us/step - loss: 1.0694 - acc: 0.6613 - val_loss: 1.1404 - val_acc: 0.6312\n",
      "Epoch 24/34\n",
      "3490/3490 [==============================] - 1s 383us/step - loss: 1.0572 - acc: 0.6625 - val_loss: 1.1447 - val_acc: 0.6357\n",
      "Epoch 25/34\n",
      "3490/3490 [==============================] - 1s 390us/step - loss: 1.0611 - acc: 0.6573 - val_loss: 1.1589 - val_acc: 0.6346\n",
      "Epoch 26/34\n",
      "3490/3490 [==============================] - 1s 385us/step - loss: 1.0476 - acc: 0.6559 - val_loss: 1.1677 - val_acc: 0.6277\n",
      "Epoch 27/34\n",
      "3490/3490 [==============================] - 1s 391us/step - loss: 1.0379 - acc: 0.6659 - val_loss: 1.1336 - val_acc: 0.6449\n",
      "Epoch 28/34\n",
      "3490/3490 [==============================] - 1s 408us/step - loss: 1.0453 - acc: 0.6653 - val_loss: 1.1448 - val_acc: 0.6323\n",
      "Epoch 29/34\n",
      "3490/3490 [==============================] - 1s 403us/step - loss: 1.0458 - acc: 0.6639 - val_loss: 1.1061 - val_acc: 0.6472\n",
      "Epoch 30/34\n",
      "3490/3490 [==============================] - 1s 388us/step - loss: 1.0138 - acc: 0.6782 - val_loss: 1.1380 - val_acc: 0.6369\n",
      "Epoch 31/34\n",
      "3490/3490 [==============================] - 1s 392us/step - loss: 1.0056 - acc: 0.6797 - val_loss: 1.1434 - val_acc: 0.6243\n",
      "Epoch 32/34\n",
      "3490/3490 [==============================] - 1s 398us/step - loss: 1.0120 - acc: 0.6777 - val_loss: 1.1134 - val_acc: 0.6403\n",
      "Epoch 33/34\n",
      "3490/3490 [==============================] - 1s 397us/step - loss: 1.0296 - acc: 0.6774 - val_loss: 1.1113 - val_acc: 0.6552\n",
      "Epoch 34/34\n",
      "3490/3490 [==============================] - 1s 398us/step - loss: 0.9892 - acc: 0.6788 - val_loss: 1.1371 - val_acc: 0.6483\n"
     ]
    },
    {
     "data": {
      "text/plain": [
       "<tensorflow.python.keras.callbacks.History at 0x102609c88>"
      ]
     },
     "execution_count": 18,
     "metadata": {},
     "output_type": "execute_result"
    }
   ],
   "source": [
    "model_mlp.fit(X_train, y_train, batch_size=64, epochs=34, shuffle=True, validation_data=(X_test, y_test))\n"
   ]
  },
  {
   "cell_type": "markdown",
   "metadata": {},
   "source": [
    "### Plot Confusion Matrix"
   ]
  },
  {
   "cell_type": "code",
   "execution_count": 19,
   "metadata": {},
   "outputs": [
    {
     "data": {
      "text/plain": [
       "Text(0.5, 1.0, 'Confusion Matrix for Validation Set')"
      ]
     },
     "execution_count": 19,
     "metadata": {},
     "output_type": "execute_result"
    },
    {
     "data": {
      "image/png": "[encoded data removed]",
      "text/plain": [
       "<Figure size 1080x720 with 2 Axes>"
      ]
     },
     "metadata": {
      "needs_background": "light"
     },
     "output_type": "display_data"
    }
   ],
   "source": [
    "matrix_predictions = model_mlp.predict(X_test)\n",
    "matrix_res = []\n",
    "for i in range(0, 873):\n",
    "    matrix_res.append(np.argmax(matrix_predictions[i]))\n",
    "\n",
    "array = confusion_matrix(y_test, matrix_res)\n",
    "\n",
    "df_cm = pd.DataFrame(array, range(1,11), range(1,11))\n",
    "plt.figure(figsize = (15,10))\n",
    "sn.set(font_scale=1.4)#for label size\n",
    "ax = sn.heatmap(df_cm, annot=True, annot_kws={\"size\": 15}, cmap=\"YlGnBu\", fmt=\"d\")# font size\n",
    "ax.set_xlabel('Predicted label')\n",
    "ax.set_ylabel('True label')\n",
    "ax.set_title(\"Confusion Matrix for Validation Set\")"
   ]
  },
  {
   "cell_type": "markdown",
   "metadata": {},
   "source": [
    "### Make predictions and save accuracy result to text file"
   ]
  },
  {
   "cell_type": "code",
   "execution_count": 20,
   "metadata": {},
   "outputs": [],
   "source": [
    "test_data=pd.read_csv('test_data.csv',header=None)\n",
    "test_data = test_data.values\n",
    "test = min_max_scaler.fit_transform(test_data)\n",
    "predictions = model_mlp.predict(test)\n",
    "res = []\n",
    "for i in range(0, 6544):\n",
    "    res.append(np.argmax(predictions[i])+1)\n",
    "# print(predictions[40])\n",
    "\n",
    "submission = np.column_stack((np.arange(1,6545), np.array(res)))\n",
    "\n",
    "solution = np.savetxt(\"solution_mlp.csv\", submission, delimiter=',',fmt=['%i','%i'], header=\"Sample_id,Sample_label\", comments='')"
   ]
  },
  {
   "cell_type": "markdown",
   "metadata": {},
   "source": [
    "### Make predictions and save log-loss result to text file"
   ]
  },
  {
   "cell_type": "code",
   "execution_count": 21,
   "metadata": {},
   "outputs": [],
   "source": [
    "test_data=pd.read_csv('test_data.csv',header=None)\n",
    "test_data = test_data.values\n",
    "test = min_max_scaler.fit_transform(test_data)\n",
    "predictions = model_mlp.predict(test)\n",
    "\n",
    "submission_log = np.column_stack((np.arange(1,6545), predictions))\n",
    "\n",
    "solution = np.savetxt(\"solution_mlp_logloss.csv\", submission_log, delimiter=',',fmt=['%d','%1.4f','%1.4f','%1.4f','%1.4f','%1.4f','%1.4f','%1.4f','%1.4f','%1.4f','%1.4f'], header=\"Sample_id,Class_1,Class_2,Class_3,Class_4,Class_5,Class_6,Class_7,Class_8,Class_9,Class_10\", comments='')"
   ]
  },
  {
   "cell_type": "markdown",
   "metadata": {},
   "source": [
    "### Method 2: Convolutional Neural Networks (CNN)"
   ]
  },
  {
   "cell_type": "code",
   "execution_count": 22,
   "metadata": {},
   "outputs": [
    {
     "name": "stderr",
     "output_type": "stream",
     "text": [
      "Using TensorFlow backend.\n"
     ]
    },
    {
     "name": "stdout",
     "output_type": "stream",
     "text": [
      "Train on 3490 samples, validate on 873 samples\n",
      "Epoch 1/61\n",
      "3490/3490 [==============================] - 5s 1ms/step - loss: 1.6926 - acc: 0.4928 - val_loss: 1.5882 - val_acc: 0.5166\n",
      "Epoch 2/61\n",
      "3490/3490 [==============================] - 5s 1ms/step - loss: 1.5390 - acc: 0.5112 - val_loss: 1.4713 - val_acc: 0.5258\n",
      "Epoch 3/61\n",
      "3490/3490 [==============================] - 5s 1ms/step - loss: 1.4499 - acc: 0.5390 - val_loss: 1.3582 - val_acc: 0.5716\n",
      "Epoch 4/61\n",
      "3490/3490 [==============================] - 5s 1ms/step - loss: 1.3969 - acc: 0.5501 - val_loss: 1.3221 - val_acc: 0.5876\n",
      "Epoch 5/61\n",
      "3490/3490 [==============================] - 5s 1ms/step - loss: 1.3560 - acc: 0.5630 - val_loss: 1.3263 - val_acc: 0.5945\n",
      "Epoch 6/61\n",
      "3490/3490 [==============================] - 5s 1ms/step - loss: 1.3128 - acc: 0.5756 - val_loss: 1.2958 - val_acc: 0.5945\n",
      "Epoch 7/61\n",
      "3490/3490 [==============================] - 5s 1ms/step - loss: 1.2835 - acc: 0.5868 - val_loss: 1.2832 - val_acc: 0.6094\n",
      "Epoch 8/61\n",
      "3490/3490 [==============================] - 5s 1ms/step - loss: 1.2727 - acc: 0.5894 - val_loss: 1.2503 - val_acc: 0.6105\n",
      "Epoch 9/61\n",
      "3490/3490 [==============================] - 5s 1ms/step - loss: 1.2657 - acc: 0.5928 - val_loss: 1.2909 - val_acc: 0.5865\n",
      "Epoch 10/61\n",
      "3490/3490 [==============================] - 5s 1ms/step - loss: 1.2485 - acc: 0.5957 - val_loss: 1.2511 - val_acc: 0.6082\n",
      "Epoch 11/61\n",
      "3490/3490 [==============================] - 5s 1ms/step - loss: 1.2512 - acc: 0.5960 - val_loss: 1.2020 - val_acc: 0.6163\n",
      "Epoch 12/61\n",
      "3490/3490 [==============================] - 5s 1ms/step - loss: 1.2286 - acc: 0.6054 - val_loss: 1.2177 - val_acc: 0.6128\n",
      "Epoch 13/61\n",
      "3490/3490 [==============================] - 5s 1ms/step - loss: 1.2036 - acc: 0.6072 - val_loss: 1.2214 - val_acc: 0.6025\n",
      "Epoch 14/61\n",
      "3490/3490 [==============================] - 5s 1ms/step - loss: 1.2048 - acc: 0.6129 - val_loss: 1.1884 - val_acc: 0.6117\n",
      "Epoch 15/61\n",
      "3490/3490 [==============================] - 5s 1ms/step - loss: 1.1817 - acc: 0.6178 - val_loss: 1.1646 - val_acc: 0.6128\n",
      "Epoch 16/61\n",
      "3490/3490 [==============================] - 5s 1ms/step - loss: 1.1710 - acc: 0.6152 - val_loss: 1.1686 - val_acc: 0.6208\n",
      "Epoch 17/61\n",
      "3490/3490 [==============================] - 5s 1ms/step - loss: 1.1597 - acc: 0.6229 - val_loss: 1.2714 - val_acc: 0.5830\n",
      "Epoch 18/61\n",
      "3490/3490 [==============================] - 5s 1ms/step - loss: 1.1617 - acc: 0.6172 - val_loss: 1.1536 - val_acc: 0.6186\n",
      "Epoch 19/61\n",
      "3490/3490 [==============================] - 5s 1ms/step - loss: 1.1513 - acc: 0.6215 - val_loss: 1.2250 - val_acc: 0.6002\n",
      "Epoch 20/61\n",
      "3490/3490 [==============================] - 5s 1ms/step - loss: 1.1432 - acc: 0.6278 - val_loss: 1.2227 - val_acc: 0.5922\n",
      "Epoch 21/61\n",
      "3490/3490 [==============================] - 5s 1ms/step - loss: 1.1249 - acc: 0.6350 - val_loss: 1.1629 - val_acc: 0.6186\n",
      "Epoch 22/61\n",
      "3490/3490 [==============================] - 5s 1ms/step - loss: 1.1422 - acc: 0.6252 - val_loss: 1.1962 - val_acc: 0.6117\n",
      "Epoch 23/61\n",
      "3490/3490 [==============================] - 5s 1ms/step - loss: 1.1250 - acc: 0.6344 - val_loss: 1.2374 - val_acc: 0.6094\n",
      "Epoch 24/61\n",
      "3490/3490 [==============================] - 5s 1ms/step - loss: 1.1243 - acc: 0.6344 - val_loss: 1.1335 - val_acc: 0.6300\n",
      "Epoch 25/61\n",
      "3490/3490 [==============================] - 5s 1ms/step - loss: 1.1172 - acc: 0.6312 - val_loss: 1.1466 - val_acc: 0.6369\n",
      "Epoch 26/61\n",
      "3490/3490 [==============================] - 5s 1ms/step - loss: 1.1067 - acc: 0.6387 - val_loss: 1.1476 - val_acc: 0.6323\n",
      "Epoch 27/61\n",
      "3490/3490 [==============================] - 5s 2ms/step - loss: 1.1002 - acc: 0.6361 - val_loss: 1.1453 - val_acc: 0.6254\n",
      "Epoch 28/61\n",
      "3490/3490 [==============================] - 5s 1ms/step - loss: 1.0972 - acc: 0.6390 - val_loss: 1.1171 - val_acc: 0.6312\n",
      "Epoch 29/61\n",
      "3490/3490 [==============================] - 5s 1ms/step - loss: 1.1042 - acc: 0.6404 - val_loss: 1.2155 - val_acc: 0.6094\n",
      "Epoch 30/61\n",
      "3490/3490 [==============================] - 5s 1ms/step - loss: 1.0882 - acc: 0.6433 - val_loss: 1.1759 - val_acc: 0.6197\n",
      "Epoch 31/61\n",
      "3490/3490 [==============================] - 5s 1ms/step - loss: 1.0833 - acc: 0.6487 - val_loss: 1.1703 - val_acc: 0.6323\n",
      "Epoch 32/61\n",
      "3490/3490 [==============================] - 5s 1ms/step - loss: 1.0895 - acc: 0.6433 - val_loss: 1.1378 - val_acc: 0.6300\n",
      "Epoch 33/61\n",
      "3490/3490 [==============================] - 5s 1ms/step - loss: 1.0755 - acc: 0.6398 - val_loss: 1.1552 - val_acc: 0.6323\n",
      "Epoch 34/61\n",
      "3490/3490 [==============================] - 5s 1ms/step - loss: 1.0979 - acc: 0.6384 - val_loss: 1.1637 - val_acc: 0.6197\n",
      "Epoch 35/61\n",
      "3490/3490 [==============================] - 5s 2ms/step - loss: 1.0842 - acc: 0.6407 - val_loss: 1.1906 - val_acc: 0.6140\n",
      "Epoch 36/61\n",
      "3490/3490 [==============================] - 5s 1ms/step - loss: 1.0634 - acc: 0.6453 - val_loss: 1.1358 - val_acc: 0.6277\n",
      "Epoch 37/61\n",
      "3490/3490 [==============================] - 5s 1ms/step - loss: 1.0491 - acc: 0.6576 - val_loss: 1.1727 - val_acc: 0.6312\n",
      "Epoch 38/61\n",
      "3490/3490 [==============================] - 5s 1ms/step - loss: 1.0552 - acc: 0.6487 - val_loss: 1.1601 - val_acc: 0.6323\n",
      "Epoch 39/61\n",
      "3490/3490 [==============================] - 5s 1ms/step - loss: 1.0475 - acc: 0.6499 - val_loss: 1.1536 - val_acc: 0.6220\n",
      "Epoch 40/61\n",
      "3490/3490 [==============================] - 5s 1ms/step - loss: 1.0484 - acc: 0.6564 - val_loss: 1.1448 - val_acc: 0.6277\n",
      "Epoch 41/61\n",
      "3490/3490 [==============================] - 5s 1ms/step - loss: 1.0486 - acc: 0.6510 - val_loss: 1.1360 - val_acc: 0.6403\n",
      "Epoch 42/61\n",
      "3490/3490 [==============================] - 5s 1ms/step - loss: 1.0453 - acc: 0.6593 - val_loss: 1.1314 - val_acc: 0.6208\n",
      "Epoch 43/61\n",
      "3490/3490 [==============================] - 5s 1ms/step - loss: 1.0357 - acc: 0.6499 - val_loss: 1.1203 - val_acc: 0.6334\n",
      "Epoch 44/61\n",
      "3490/3490 [==============================] - 5s 1ms/step - loss: 1.0169 - acc: 0.6636 - val_loss: 1.1322 - val_acc: 0.6392\n",
      "Epoch 45/61\n",
      "3490/3490 [==============================] - 5s 1ms/step - loss: 1.0198 - acc: 0.6610 - val_loss: 1.1574 - val_acc: 0.6277\n",
      "Epoch 46/61\n",
      "3490/3490 [==============================] - 5s 1ms/step - loss: 1.0307 - acc: 0.6602 - val_loss: 1.1397 - val_acc: 0.6392\n",
      "Epoch 47/61\n",
      "3490/3490 [==============================] - 5s 1ms/step - loss: 1.0352 - acc: 0.6542 - val_loss: 1.1188 - val_acc: 0.6403\n",
      "Epoch 48/61\n",
      "3490/3490 [==============================] - 5s 1ms/step - loss: 1.0171 - acc: 0.6639 - val_loss: 1.1349 - val_acc: 0.6220\n",
      "Epoch 49/61\n",
      "3490/3490 [==============================] - 5s 1ms/step - loss: 1.0036 - acc: 0.6668 - val_loss: 1.1354 - val_acc: 0.6220\n",
      "Epoch 50/61\n",
      "3490/3490 [==============================] - 5s 1ms/step - loss: 1.0004 - acc: 0.6719 - val_loss: 1.1532 - val_acc: 0.6231\n",
      "Epoch 51/61\n",
      "3490/3490 [==============================] - 5s 2ms/step - loss: 0.9960 - acc: 0.6670 - val_loss: 1.1203 - val_acc: 0.6289\n",
      "Epoch 52/61\n",
      "3490/3490 [==============================] - 5s 1ms/step - loss: 0.9781 - acc: 0.6765 - val_loss: 1.1267 - val_acc: 0.6289\n",
      "Epoch 53/61\n",
      "3490/3490 [==============================] - 5s 2ms/step - loss: 0.9835 - acc: 0.6713 - val_loss: 1.1471 - val_acc: 0.6346\n",
      "Epoch 54/61\n",
      "3490/3490 [==============================] - 5s 1ms/step - loss: 0.9725 - acc: 0.6756 - val_loss: 1.2392 - val_acc: 0.5899\n",
      "Epoch 55/61\n",
      "3490/3490 [==============================] - 5s 1ms/step - loss: 0.9826 - acc: 0.6679 - val_loss: 1.1117 - val_acc: 0.6449\n",
      "Epoch 56/61\n",
      "3490/3490 [==============================] - 5s 2ms/step - loss: 0.9840 - acc: 0.6756 - val_loss: 1.1473 - val_acc: 0.6334\n",
      "Epoch 57/61\n",
      "3490/3490 [==============================] - 5s 1ms/step - loss: 0.9708 - acc: 0.6676 - val_loss: 1.1399 - val_acc: 0.6369\n",
      "Epoch 58/61\n",
      "3490/3490 [==============================] - 5s 1ms/step - loss: 0.9652 - acc: 0.6799 - val_loss: 1.1572 - val_acc: 0.6289\n",
      "Epoch 59/61\n",
      "3490/3490 [==============================] - 5s 2ms/step - loss: 0.9531 - acc: 0.6739 - val_loss: 1.1347 - val_acc: 0.6380\n",
      "Epoch 60/61\n",
      "3490/3490 [==============================] - 5s 1ms/step - loss: 0.9631 - acc: 0.6762 - val_loss: 1.1256 - val_acc: 0.6323\n",
      "Epoch 61/61\n",
      "3490/3490 [==============================] - 5s 1ms/step - loss: 0.9514 - acc: 0.6777 - val_loss: 1.1378 - val_acc: 0.6460\n"
     ]
    },
    {
     "data": {
      "text/plain": [
       "<keras.callbacks.History at 0x1a2e2ee550>"
      ]
     },
     "execution_count": 22,
     "metadata": {},
     "output_type": "execute_result"
    }
   ],
   "source": [
    "import keras\n",
    "from keras.datasets import mnist\n",
    "from keras.models import Sequential\n",
    "from keras.layers import Dense, Dropout, Flatten\n",
    "from keras.layers import Conv1D, MaxPooling1D\n",
    "from keras import backend as K\n",
    "\n",
    "batch_size = 64\n",
    "num_classes = 10\n",
    "epochs = 61\n",
    "\n",
    "x_train, x_test = X_train, X_test\n",
    "\n",
    "x_train_new = x_train.reshape(x_train.shape[0], 12, 22).astype('float32')\n",
    "x_test_new = x_test.reshape(x_test.shape[0], 12, 22).astype('float32') \n",
    "\n",
    "y_train_new = keras.utils.to_categorical(y_train, num_classes)\n",
    "y_test_new = keras.utils.to_categorical(y_test, num_classes)\n",
    "\n",
    "model = Sequential()\n",
    "model.add(Conv1D(filters=32, kernel_size=4, input_shape=(12, 22)))\n",
    "model.add(MaxPooling1D(pool_size=4))\n",
    "model.add(Flatten())\n",
    "model.add(Dropout(0.5))\n",
    "model.add(Dense(1000, activation='relu'))\n",
    "model.add(Dense(300, activation='relu'))\n",
    "model.add(Dense(num_classes, activation='softmax'))\n",
    "\n",
    "model.compile(loss=keras.losses.categorical_crossentropy,\n",
    "              optimizer=keras.optimizers.Adadelta(),\n",
    "              metrics=['accuracy'])\n",
    "\n",
    "model.fit(x_train_new, y_train_new,\n",
    "          batch_size=batch_size,\n",
    "          epochs=epochs,\n",
    "          verbose=1,\n",
    "          validation_data=(x_test_new, y_test_new))"
   ]
  },
  {
   "cell_type": "markdown",
   "metadata": {},
   "source": [
    "### Make predictions and save accuracy result to text file"
   ]
  },
  {
   "cell_type": "code",
   "execution_count": 23,
   "metadata": {},
   "outputs": [],
   "source": [
    "test_data=pd.read_csv('test_data.csv',header=None)\n",
    "test_data = test_data.values\n",
    "test = min_max_scaler.fit_transform(test_data)\n",
    "test_data_new = test.reshape(test.shape[0], 12, 22).astype('float32') \n",
    "predictions = model.predict(test_data_new)\n",
    "res = []\n",
    "for i in range(0, 6544):\n",
    "    res.append(np.argmax(predictions[i])+1)\n",
    "\n",
    "submission = np.column_stack((np.arange(1,6545), np.array(res)))\n",
    "\n",
    "solution = np.savetxt(\"solution_cnn.csv\", submission, delimiter=',',fmt=['%i','%i'], header=\"Sample_id,Sample_label\", comments='')"
   ]
  },
  {
   "cell_type": "markdown",
   "metadata": {},
   "source": [
    "### Make predictions and save log-loss result to text file"
   ]
  },
  {
   "cell_type": "code",
   "execution_count": 24,
   "metadata": {},
   "outputs": [],
   "source": [
    "test_data=pd.read_csv('test_data.csv',header=None)\n",
    "test_data = test_data.values\n",
    "test = min_max_scaler.fit_transform(test_data)\n",
    "test_data_new = test.reshape(test.shape[0], 12, 22).astype('float32') \n",
    "predictions = model.predict(test_data_new)\n",
    "\n",
    "submission_log = np.column_stack((np.arange(1,6545), predictions))\n",
    "\n",
    "solution = np.savetxt(\"solution_cnn_logloss.csv\", submission_log, delimiter=',',fmt=['%d','%1.4f','%1.4f','%1.4f','%1.4f','%1.4f','%1.4f','%1.4f','%1.4f','%1.4f','%1.4f'], header=\"Sample_id,Class_1,Class_2,Class_3,Class_4,Class_5,Class_6,Class_7,Class_8,Class_9,Class_10\", comments='')"
   ]
  },
  {
   "cell_type": "code",
   "execution_count": null,
   "metadata": {},
   "outputs": [],
   "source": []
  }
 ],
 "metadata": {
  "kernelspec": {
   "display_name": "Python 3",
   "language": "python",
   "name": "python3"
  },
  "language_info": {
   "codemirror_mode": {
    "name": "ipython",
    "version": 3
   },
   "file_extension": ".py",
   "mimetype": "text/x-python",
   "name": "python",
   "nbconvert_exporter": "python",
   "pygments_lexer": "ipython3",
   "version": "3.6.7"
  }
 },
 "nbformat": 4,
 "nbformat_minor": 2
}
